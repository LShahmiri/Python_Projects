{
  "nbformat": 4,
  "nbformat_minor": 0,
  "metadata": {
    "colab": {
      "provenance": [],
      "authorship_tag": "ABX9TyNX8KyE2P9uiMWeb5UD03mu",
      "include_colab_link": true
    },
    "kernelspec": {
      "name": "python3",
      "display_name": "Python 3"
    },
    "language_info": {
      "name": "python"
    }
  },
  "cells": [
    {
      "cell_type": "markdown",
      "metadata": {
        "id": "view-in-github",
        "colab_type": "text"
      },
      "source": [
        "<a href=\"https://colab.research.google.com/github/LShahmiri/Python_Projects/blob/master/Image_Dataset_Organizer.ipynb\" target=\"_parent\"><img src=\"https://colab.research.google.com/assets/colab-badge.svg\" alt=\"Open In Colab\"/></a>"
      ]
    },
    {
      "cell_type": "code",
      "execution_count": null,
      "metadata": {
        "id": "iYOCd1imadRb"
      },
      "outputs": [],
      "source": [
        "import shutil\n",
        "import os\n",
        "\n",
        "def copy_files(source_path, destination_path):\n",
        "    \"\"\"\n",
        "    Copy files from the source directory to the destination directory.\n",
        "\n",
        "    Args:\n",
        "        source_path (str): Path of the source directory.\n",
        "        destination_path (str): Path of the destination directory.\n",
        "    \"\"\"\n",
        "    file_names = os.listdir(source_path)\n",
        "\n",
        "    for file_name in file_names:\n",
        "        # Combine the source file path and the file name\n",
        "        source_file_path = os.path.join(source_path, file_name)\n",
        "\n",
        "        # Combine the destination file path and the file name\n",
        "        destination_file_path = os.path.join(destination_path, file_name)\n",
        "\n",
        "        # Copy the file from the source directory to the destination directory\n",
        "        shutil.copy(source_file_path, destination_file_path)\n",
        "\n",
        "def main():\n",
        "    # Define the source and destination directories for the Test dataset\n",
        "    src_path_test = '....'\n",
        "    dst_path_test = '....'\n",
        "\n",
        "    # Copy files from the Test dataset source directory to the destination directory\n",
        "    copy_files(src_path_test, dst_path_test)\n",
        "\n",
        "    # Define the source and destination directories for the Train dataset\n",
        "    src_path_train = '.....'\n",
        "    dst_path_train = '.....'\n",
        "\n",
        "    # Copy files from the Train dataset source directory to the destination directory\n",
        "    copy_files(src_path_train, dst_path_train)\n",
        "\n",
        "    # Define the source and destination directories for the Valid dataset\n",
        "    src_path_valid = '....'\n",
        "    dst_path_valid = '....'\n",
        "\n",
        "    # Copy files from the Valid dataset source directory to the destination directory\n",
        "    copy_files(src_path_valid, dst_path_valid)\n",
        "\n",
        "if __name__ == \"__main__\":\n",
        "    main()\n"
      ]
    }
  ]
}