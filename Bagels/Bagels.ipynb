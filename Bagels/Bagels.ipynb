{
  "nbformat": 4,
  "nbformat_minor": 0,
  "metadata": {
    "colab": {
      "provenance": [],
      "collapsed_sections": [],
      "authorship_tag": "ABX9TyMhjGF1bzFjK6UlZ/hhVkFc",
      "include_colab_link": true
    },
    "kernelspec": {
      "name": "python3",
      "display_name": "Python 3"
    },
    "language_info": {
      "name": "python"
    }
  },
  "cells": [
    {
      "cell_type": "markdown",
      "metadata": {
        "id": "view-in-github",
        "colab_type": "text"
      },
      "source": [
        "<a href=\"https://colab.research.google.com/github/LShahmiri/Python_Projects/blob/main/Bagels.ipynb\" target=\"_parent\"><img src=\"https://colab.research.google.com/assets/colab-badge.svg\" alt=\"Open In Colab\"/></a>"
      ]
    },
    {
      "cell_type": "code",
      "source": [
        "import random\n",
        "NUM_DIGITS = 3\n",
        "MAX_GUESSES = 10\n",
        "def main():\n",
        "    while True:\n",
        "\n",
        "        secretNum = getSecretNum()\n",
        "        numGuesses = 1\n",
        "        print('I have thought up a number.')\n",
        "        print(' You have {} guesses to get it.'.format(MAX_GUESSES))\n",
        "        while numGuesses <= MAX_GUESSES:\n",
        "            guess = ''\n",
        "            while len(guess) != NUM_DIGITS or not guess.isdecimal():\n",
        "                print('Guess #{}: '.format(numGuesses))\n",
        "                guess = input('>')\n",
        "            clues = getClues(guess, secretNum)\n",
        "            print(clues)\n",
        "            numGuesses += 1\n",
        "            if guess == secretNum:\n",
        "                break\n",
        "            if numGuesses > MAX_GUESSES:\n",
        "                print('You ran out of guesses.')\n",
        "                print('the answer was{}.'.format(secretNum))\n",
        "        print('Do you want to play again? (yes or no)')\n",
        "        if not input('>').lower().startswith('y'):\n",
        "            break\n",
        "    print('Thanks for playing')\n",
        "\n",
        "\n",
        "def getSecretNum():\n",
        "    \"\"\" This function returns you a 3 digits number randomly, which you should guess this number\"\"\"\n",
        "       \n",
        "    numbers = list('0123456789')\n",
        "    random.shuffle(numbers)\n",
        "    secretNum = ''\n",
        "    for i in range(NUM_DIGITS):\n",
        "        secretNum += str(numbers[i])\n",
        "    return secretNum\n",
        "\n",
        "\n",
        "def getClues(guess, secretNum):\n",
        "\n",
        "    \"\"\" This function returns you clues to use them in next guess number: \n",
        "    If the numebr you guess is the same as secretNum it 'return you You got it',\n",
        "    If one number guess is true returns you 'pico'\n",
        "    If one number guess is true and its place is true returns 'Fermi'\n",
        "    If none of them are true returns you 'Bagels'\n",
        "    \"\"\"\n",
        "\n",
        "    if guess == secretNum:\n",
        "        return 'You got it!'\n",
        "     \n",
        "    clues = []\n",
        "\n",
        "    for i in range(len(guess)):\n",
        "        if guess[i] == secretNum[i]:\n",
        "            clues.append('Fermi')\n",
        "        elif guess[i] in secretNum:\n",
        "            clues.append('Pico')\n",
        "    if len(clues) == 0:\n",
        "        return 'Bagels'\n",
        "    else:\n",
        "        clues.sort()\n",
        "        return ''.join(clues)\n",
        "\n",
        "\n",
        "\n",
        "\n",
        "if __name__ == '__main__':\n",
        "    main()\n"
      ],
      "metadata": {
        "id": "qJXPfuzuEeN1",
        "colab": {
          "base_uri": "https://localhost:8080/"
        },
        "outputId": "09b5a249-482b-43e2-8dbb-aec733fde90e"
      },
      "execution_count": 28,
      "outputs": [
        {
          "output_type": "stream",
          "name": "stdout",
          "text": [
            "I have thought up a number.\n",
            " You have 10 guesses to get it.\n",
            "Guess #1: \n",
            ">125\n",
            "Fermi\n",
            "Guess #2: \n",
            ">136\n",
            "Bagels\n",
            "Guess #3: \n",
            ">429\n",
            "Fermi\n",
            "Guess #4: \n",
            ">459\n",
            "FermiPico\n",
            "Guess #5: \n",
            ">425\n",
            "FermiFermi\n",
            "Guess #6: \n",
            ">825\n",
            "Fermi\n",
            "Guess #7: \n",
            ">405\n",
            "FermiFermi\n",
            "Guess #8: \n",
            ">475\n",
            "You got it!\n",
            "Do you want to play again? (yes or no)\n",
            ">n\n",
            "Thanks for playing\n"
          ]
        }
      ]
    }
  ]
}
