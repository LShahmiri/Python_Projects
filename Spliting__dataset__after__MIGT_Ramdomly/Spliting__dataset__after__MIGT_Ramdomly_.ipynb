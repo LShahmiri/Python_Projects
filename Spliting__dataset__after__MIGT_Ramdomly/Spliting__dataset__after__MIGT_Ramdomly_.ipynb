{
  "nbformat": 4,
  "nbformat_minor": 0,
  "metadata": {
    "colab": {
      "provenance": [],
      "authorship_tag": "ABX9TyOKp2ufMFPBj+vh9S92znDL",
      "include_colab_link": true
    },
    "kernelspec": {
      "name": "python3",
      "display_name": "Python 3"
    },
    "language_info": {
      "name": "python"
    }
  },
  "cells": [
    {
      "cell_type": "markdown",
      "metadata": {
        "id": "view-in-github",
        "colab_type": "text"
      },
      "source": [
        "<a href=\"https://colab.research.google.com/github/LShahmiri/Python_Projects/blob/master/Spliting__dataset__after__MIGT_Ramdomly/Spliting__dataset__after__MIGT_Ramdomly_.ipynb\" target=\"_parent\"><img src=\"https://colab.research.google.com/assets/colab-badge.svg\" alt=\"Open In Colab\"/></a>"
      ]
    },
    {
      "cell_type": "code",
      "execution_count": null,
      "metadata": {
        "id": "nF1_1qXakXDp"
      },
      "outputs": [],
      "source": [
        "import os\n",
        "import shutil\n",
        "import random\n",
        "\n",
        "def split_dataset(rootdir, root_train, root_test, root_valid):\n",
        "    \"\"\"\n",
        "    Splits the xxx Dataset into train, test, and validation sets.\n",
        "\n",
        "    Parameters:\n",
        "        rootdir (str): The root directory containing the original dataset.\n",
        "        root_train (str): The root directory for the training set.\n",
        "        root_test (str): The root directory for the test set.\n",
        "        root_valid (str): The root directory for the validation set.\n",
        "    \"\"\"\n",
        "    for folder in os.listdir(rootdir):\n",
        "        dirName = os.path.join(rootdir, folder)\n",
        "        for folders in os.listdir(dirName):\n",
        "            if folders == 'Train':\n",
        "                file_names = os.listdir(os.path.join(dirName, 'Train'))\n",
        "                for file_name in file_names:\n",
        "                    if not os.path.exists(os.path.join(root_train, folder)):\n",
        "                         os.makedirs(os.path.join(root_train, folder))\n",
        "                    t = os.path.join(root_train, folder)\n",
        "                    shutil.copy(os.path.join(dirName, 'Train', file_name), t)\n",
        "\n",
        "            elif folders == 'Test':\n",
        "                file_names = os.listdir(os.path.join(dirName, 'Test'))\n",
        "                for file_name in file_names:\n",
        "                    if not os.path.exists(os.path.join(root_test, folder)):\n",
        "                         os.makedirs(os.path.join(root_test, folder))\n",
        "                    te = os.path.join(root_test, folder)\n",
        "                    shutil.copy(os.path.join(dirName, 'Test', file_name), te)\n",
        "\n",
        "            elif folders == 'Valid':\n",
        "                file_names = os.listdir(os.path.join(dirName, 'Valid'))\n",
        "                for file_name in file_names:\n",
        "                    if not os.path.exists(os.path.join(root_valid, folder)):\n",
        "                         os.makedirs(os.path.join(root_valid, folder))\n",
        "                    v = os.path.join(root_valid, folder)\n",
        "                    shutil.copy(os.path.join(dirName, 'Valid', file_name), v)\n",
        "\n",
        "if __name__ == \"__main__\":\n",
        "    rootdir = 'C:/Users/...../Dataset'\n",
        "    root_train = 'C:/Users/.....foldrin/Train'\n",
        "    root_test = 'C:/Users/...../foldrin/Test'\n",
        "    root_valid = 'C:/Users/....../foldrin/Valid'\n",
        "\n",
        "    split_dataset(rootdir, root_train, root_test, root_valid)\n"
      ]
    }
  ]
}